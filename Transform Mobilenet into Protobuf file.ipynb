{
 "cells": [
  {
   "cell_type": "code",
   "execution_count": null,
   "metadata": {},
   "outputs": [],
   "source": [
    "# Converts the saved model to a Protobuf file for Android Studio\n",
    "# Add cells after model has been trained\n",
    "model.save(\"yummly_model.h5\")"
   ]
  },
  {
   "cell_type": "code",
   "execution_count": null,
   "metadata": {},
   "outputs": [],
   "source": [
    "from tensorflow.python.framework import graph_util\n",
    "from tensorflow.python.framework import graph_io\n",
    "from keras.models import load_model\n",
    "from keras import backend as K\n",
    "import os.path as osp\n",
    "\n",
    "model = load_model(\"yummly_model.h5\")\n",
    "nb_classes = 6 # The number of output nodes in the model\n",
    "prefix_output_node_names_of_final_network = 'output_node'\n",
    "\n",
    "K.set_learning_phase(0)\n",
    "\n",
    "pred = [None]*nb_classes\n",
    "pred_node_names = [None]*nb_classes\n",
    "for i in range(nb_classes):\n",
    "    pred_node_names[i] = prefix_output_node_names_of_final_network+str(i)\n",
    "    pred[i] = tf.identity(model.output[i], name=pred_node_names[i])\n",
    "print('output nodes names are: ', pred_node_names)\n",
    "\n",
    "sess = K.get_session()\n",
    "output_fld = 'tensorflow_model/'\n",
    "if not os.path.isdir(output_fld):\n",
    "    os.mkdir(output_fld)\n",
    "output_graph_name = saved_model_path + '.pb'\n",
    "output_graph_suffix = '_inference'\n",
    "\n",
    "constant_graph = graph_util.convert_variables_to_constants(sess, sess.graph.as_graph_def(), pred_node_names)\n",
    "graph_io.write_graph(constant_graph, output_fld, output_graph_name, as_text=False)\n",
    "print('saved the constant graph (ready for inference) at: ', osp.join(output_fld, output_graph_name))"
   ]
  }
 ],
 "metadata": {
  "kernelspec": {
   "display_name": "Python 3",
   "language": "python",
   "name": "python3"
  },
  "language_info": {
   "codemirror_mode": {
    "name": "ipython",
    "version": 3
   },
   "file_extension": ".py",
   "mimetype": "text/x-python",
   "name": "python",
   "nbconvert_exporter": "python",
   "pygments_lexer": "ipython3",
   "version": "3.7.1"
  }
 },
 "nbformat": 4,
 "nbformat_minor": 2
}
